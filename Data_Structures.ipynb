{
  "nbformat": 4,
  "nbformat_minor": 0,
  "metadata": {
    "colab": {
      "name": "Data Structures.ipynb",
      "provenance": [],
      "collapsed_sections": [
        "sa04CJ-tg--k"
      ],
      "authorship_tag": "ABX9TyOSfILltClhxsACjUFSdjKp",
      "include_colab_link": true
    },
    "kernelspec": {
      "name": "python3",
      "display_name": "Python 3"
    },
    "language_info": {
      "name": "python"
    }
  },
  "cells": [
    {
      "cell_type": "markdown",
      "metadata": {
        "id": "view-in-github",
        "colab_type": "text"
      },
      "source": [
        "<a href=\"https://colab.research.google.com/github/MaybinKatongo/Data-Structures/blob/main/Data_Structures.ipynb\" target=\"_parent\"><img src=\"https://colab.research.google.com/assets/colab-badge.svg\" alt=\"Open In Colab\"/></a>"
      ]
    },
    {
      "cell_type": "markdown",
      "metadata": {
        "id": "nGmuq0N7b-UM"
      },
      "source": [
        "# Data Structures in Python"
      ]
    },
    {
      "cell_type": "markdown",
      "metadata": {
        "id": "IPPQ8W6zeXwR"
      },
      "source": [
        "# Numbers and Boolean"
      ]
    },
    {
      "cell_type": "markdown",
      "metadata": {
        "id": "25NbUBi8fBfy"
      },
      "source": [
        "### Integer - int"
      ]
    },
    {
      "cell_type": "code",
      "metadata": {
        "colab": {
          "base_uri": "https://localhost:8080/"
        },
        "id": "LuurqStDebts",
        "outputId": "3334ffb6-7bb1-447f-cb06-80e11096198d"
      },
      "source": [
        "# Integers - these are numbers without point or float\n",
        "\n",
        "a = 48\n",
        "print(a)"
      ],
      "execution_count": null,
      "outputs": [
        {
          "output_type": "stream",
          "text": [
            "48\n"
          ],
          "name": "stdout"
        }
      ]
    },
    {
      "cell_type": "markdown",
      "metadata": {
        "id": "rmWvH2kEfit8"
      },
      "source": [
        "### Floating point - float\n",
        "- Its a number containing decimal or a float"
      ]
    },
    {
      "cell_type": "code",
      "metadata": {
        "id": "Qg8lttqlemRA"
      },
      "source": [
        "# Floating point - float"
      ],
      "execution_count": null,
      "outputs": []
    },
    {
      "cell_type": "code",
      "metadata": {
        "colab": {
          "base_uri": "https://localhost:8080/"
        },
        "id": "uIKBmf68fuX_",
        "outputId": "aeb78cfc-2f67-4fc5-a7f1-3adf7f060ed8"
      },
      "source": [
        "b = 9.5\n",
        "print(b)\n",
        "type(b)"
      ],
      "execution_count": null,
      "outputs": [
        {
          "output_type": "stream",
          "text": [
            "9.5\n"
          ],
          "name": "stdout"
        },
        {
          "output_type": "execute_result",
          "data": {
            "text/plain": [
              "float"
            ]
          },
          "metadata": {
            "tags": []
          },
          "execution_count": 82
        }
      ]
    },
    {
      "cell_type": "markdown",
      "metadata": {
        "id": "s0YbGZy_gAE0"
      },
      "source": [
        "Checking Data type"
      ]
    },
    {
      "cell_type": "markdown",
      "metadata": {
        "id": "7T3QdDs4gH87"
      },
      "source": [
        "- type()"
      ]
    },
    {
      "cell_type": "code",
      "metadata": {
        "colab": {
          "base_uri": "https://localhost:8080/"
        },
        "id": "8c85l7tCgL_r",
        "outputId": "68502d8b-2a21-4c92-8660-d0245ecb3251"
      },
      "source": [
        "type(a)"
      ],
      "execution_count": null,
      "outputs": [
        {
          "output_type": "execute_result",
          "data": {
            "text/plain": [
              "int"
            ]
          },
          "metadata": {
            "tags": []
          },
          "execution_count": 71
        }
      ]
    },
    {
      "cell_type": "code",
      "metadata": {
        "colab": {
          "base_uri": "https://localhost:8080/"
        },
        "id": "UoAwQVEQgXdM",
        "outputId": "ca592b4c-37ab-4f4a-bfbc-58b3da8fec91"
      },
      "source": [
        "type(b)"
      ],
      "execution_count": null,
      "outputs": [
        {
          "output_type": "execute_result",
          "data": {
            "text/plain": [
              "float"
            ]
          },
          "metadata": {
            "tags": []
          },
          "execution_count": 83
        }
      ]
    },
    {
      "cell_type": "markdown",
      "metadata": {
        "id": "sa04CJ-tg--k"
      },
      "source": [
        "### Typecasting\n",
        "-  The process of changing data type from one type to the other\n",
        "-  int( )\n",
        "-  float( )"
      ]
    },
    {
      "cell_type": "code",
      "metadata": {
        "id": "QPjGS0DwhIiF"
      },
      "source": [
        ""
      ],
      "execution_count": null,
      "outputs": []
    },
    {
      "cell_type": "code",
      "metadata": {
        "colab": {
          "base_uri": "https://localhost:8080/"
        },
        "id": "O8SpUidZhfoN",
        "outputId": "cc540700-6a78-471f-cd0c-5b38271dba7b"
      },
      "source": [
        "divide = 5/2\n",
        "print(divide)"
      ],
      "execution_count": null,
      "outputs": [
        {
          "output_type": "stream",
          "text": [
            "2.5\n"
          ],
          "name": "stdout"
        }
      ]
    },
    {
      "cell_type": "code",
      "metadata": {
        "colab": {
          "base_uri": "https://localhost:8080/"
        },
        "id": "AgcWB6DmhnpU",
        "outputId": "64e50c46-f97a-4ef6-e0f0-fe7c6392b01a"
      },
      "source": [
        "type(divide)"
      ],
      "execution_count": null,
      "outputs": [
        {
          "output_type": "execute_result",
          "data": {
            "text/plain": [
              "float"
            ]
          },
          "metadata": {
            "tags": []
          },
          "execution_count": 11
        }
      ]
    },
    {
      "cell_type": "code",
      "metadata": {
        "colab": {
          "base_uri": "https://localhost:8080/"
        },
        "id": "Iy8OsvMih5PU",
        "outputId": "43a77a26-b620-4ee0-8a3f-983813b4cc33"
      },
      "source": [
        "float(a)"
      ],
      "execution_count": null,
      "outputs": [
        {
          "output_type": "execute_result",
          "data": {
            "text/plain": [
              "48.0"
            ]
          },
          "metadata": {
            "tags": []
          },
          "execution_count": 12
        }
      ]
    },
    {
      "cell_type": "code",
      "metadata": {
        "colab": {
          "base_uri": "https://localhost:8080/"
        },
        "id": "prk8evOkh_Nd",
        "outputId": "0a8942a1-5481-4a13-b56a-cd151b0e3aef"
      },
      "source": [
        "type(a)"
      ],
      "execution_count": null,
      "outputs": [
        {
          "output_type": "execute_result",
          "data": {
            "text/plain": [
              "int"
            ]
          },
          "metadata": {
            "tags": []
          },
          "execution_count": 13
        }
      ]
    },
    {
      "cell_type": "code",
      "metadata": {
        "colab": {
          "base_uri": "https://localhost:8080/"
        },
        "id": "wq6JwI2miLmM",
        "outputId": "36f331a2-055d-40f1-92f0-0e5bc673782f"
      },
      "source": [
        "int(divide)"
      ],
      "execution_count": null,
      "outputs": [
        {
          "output_type": "execute_result",
          "data": {
            "text/plain": [
              "2"
            ]
          },
          "metadata": {
            "tags": []
          },
          "execution_count": 14
        }
      ]
    },
    {
      "cell_type": "code",
      "metadata": {
        "colab": {
          "base_uri": "https://localhost:8080/"
        },
        "id": "yGA6_1_VAF4b",
        "outputId": "ea5ed7c2-12dd-4fbe-9f0e-95133db3a160"
      },
      "source": [
        "c = int(b)\n",
        "type(c)"
      ],
      "execution_count": null,
      "outputs": [
        {
          "output_type": "execute_result",
          "data": {
            "text/plain": [
              "int"
            ]
          },
          "metadata": {
            "tags": []
          },
          "execution_count": 86
        }
      ]
    },
    {
      "cell_type": "markdown",
      "metadata": {
        "id": "Ba8WjWPpiYt5"
      },
      "source": [
        "## Boolean"
      ]
    },
    {
      "cell_type": "markdown",
      "metadata": {
        "id": "6-594FbTihSa"
      },
      "source": [
        "- True\n",
        "- False"
      ]
    },
    {
      "cell_type": "code",
      "metadata": {
        "id": "muOAxYtviSMr"
      },
      "source": [
        "r = True\n",
        "s = False"
      ],
      "execution_count": null,
      "outputs": []
    },
    {
      "cell_type": "code",
      "metadata": {
        "colab": {
          "base_uri": "https://localhost:8080/"
        },
        "id": "ThArEvPbivKT",
        "outputId": "faa13809-bc1f-4a93-de78-1a8d33bece38"
      },
      "source": [
        "print(type(r))\n",
        "print(type(s))"
      ],
      "execution_count": null,
      "outputs": [
        {
          "output_type": "stream",
          "text": [
            "<class 'bool'>\n",
            "<class 'bool'>\n"
          ],
          "name": "stdout"
        }
      ]
    },
    {
      "cell_type": "markdown",
      "metadata": {
        "id": "l5Jndb6pkmpE"
      },
      "source": [
        "## Strings"
      ]
    },
    {
      "cell_type": "code",
      "metadata": {
        "colab": {
          "base_uri": "https://localhost:8080/",
          "height": 35
        },
        "id": "6uwaIWtpktBM",
        "outputId": "28da14b2-2a17-4d50-bafc-7d95f07eb0cc"
      },
      "source": [
        "\"I am a data scientist\""
      ],
      "execution_count": null,
      "outputs": [
        {
          "output_type": "execute_result",
          "data": {
            "application/vnd.google.colaboratory.intrinsic+json": {
              "type": "string"
            },
            "text/plain": [
              "'I am a data scientist'"
            ]
          },
          "metadata": {
            "tags": []
          },
          "execution_count": 18
        }
      ]
    },
    {
      "cell_type": "code",
      "metadata": {
        "colab": {
          "base_uri": "https://localhost:8080/"
        },
        "id": "8m63vOUOk1dZ",
        "outputId": "f30102c0-ed54-4128-e6e1-2f1202517f88"
      },
      "source": [
        "print(\"I am a data scientist\")"
      ],
      "execution_count": null,
      "outputs": [
        {
          "output_type": "stream",
          "text": [
            "I am a data scientist\n"
          ],
          "name": "stdout"
        }
      ]
    },
    {
      "cell_type": "code",
      "metadata": {
        "colab": {
          "base_uri": "https://localhost:8080/",
          "height": 35
        },
        "id": "yUO4nkeSk6kI",
        "outputId": "42de3a64-b60b-4c3a-fc76-3ef98ceb5e3b"
      },
      "source": [
        "# Use duble quotes if there is an apostroph in the string\n",
        "\"He's a data scientist\""
      ],
      "execution_count": null,
      "outputs": [
        {
          "output_type": "execute_result",
          "data": {
            "application/vnd.google.colaboratory.intrinsic+json": {
              "type": "string"
            },
            "text/plain": [
              "\"He's a data scientist\""
            ]
          },
          "metadata": {
            "tags": []
          },
          "execution_count": 20
        }
      ]
    },
    {
      "cell_type": "markdown",
      "metadata": {
        "id": "yqAD93aE2cQG"
      },
      "source": [
        "### Escape character"
      ]
    },
    {
      "cell_type": "code",
      "metadata": {
        "colab": {
          "base_uri": "https://localhost:8080/"
        },
        "id": "dGTs-zOr1z80",
        "outputId": "b7f7b0b8-2c6a-4bc7-ab1e-f5ae56325867"
      },
      "source": [
        "# Use escape character when you have multiple apostrophies and quotes in a string\n",
        "print('Newton\\'s third law: \"Every action has an equl but opposite reaction\"')"
      ],
      "execution_count": null,
      "outputs": [
        {
          "output_type": "stream",
          "text": [
            "Newton's third law: \"Every action has an equl but opposite reaction\"\n"
          ],
          "name": "stdout"
        }
      ]
    },
    {
      "cell_type": "markdown",
      "metadata": {
        "id": "EXBLg0JZ27zp"
      },
      "source": [
        "String Concatenation"
      ]
    },
    {
      "cell_type": "code",
      "metadata": {
        "colab": {
          "base_uri": "https://localhost:8080/"
        },
        "id": "TW-ZE9Lz3Mxa",
        "outputId": "4f970d61-6360-4a44-bc00-1a7e3e84c49a"
      },
      "source": [
        "print(\"Hello\" + \" world\")"
      ],
      "execution_count": null,
      "outputs": [
        {
          "output_type": "stream",
          "text": [
            "Hello world\n"
          ],
          "name": "stdout"
        }
      ]
    },
    {
      "cell_type": "markdown",
      "metadata": {
        "id": "KqS2eAIW3X1Q"
      },
      "source": [
        "String Indexing\n",
        "- String can be stored into variables\n",
        "- Each character can be accesses seperately from a string"
      ]
    },
    {
      "cell_type": "code",
      "metadata": {
        "colab": {
          "base_uri": "https://localhost:8080/"
        },
        "id": "P2Fb3HUI3SEe",
        "outputId": "1d8456a0-aa9e-49c5-a049-694eca978b39"
      },
      "source": [
        "greetings = \"Hello World\"\n",
        "print(greetings)"
      ],
      "execution_count": null,
      "outputs": [
        {
          "output_type": "stream",
          "text": [
            "Hello World\n"
          ],
          "name": "stdout"
        }
      ]
    },
    {
      "cell_type": "code",
      "metadata": {
        "colab": {
          "base_uri": "https://localhost:8080/",
          "height": 35
        },
        "id": "PtGSXahX4T_n",
        "outputId": "86bcd451-5a63-4b60-859e-352c16ee6430"
      },
      "source": [
        "greetings[4]"
      ],
      "execution_count": null,
      "outputs": [
        {
          "output_type": "execute_result",
          "data": {
            "application/vnd.google.colaboratory.intrinsic+json": {
              "type": "string"
            },
            "text/plain": [
              "'o'"
            ]
          },
          "metadata": {
            "tags": []
          },
          "execution_count": 25
        }
      ]
    },
    {
      "cell_type": "markdown",
      "metadata": {
        "id": "o3QI73Wm42U7"
      },
      "source": [
        "String Slicing\n",
        "- Extracting a particular substring from the string\n",
        "- some_string[start:end]"
      ]
    },
    {
      "cell_type": "code",
      "metadata": {
        "colab": {
          "base_uri": "https://localhost:8080/"
        },
        "id": "7vjhZEJv4aVU",
        "outputId": "c43ce411-67d6-45d5-bdb2-3b401b89cee0"
      },
      "source": [
        "greetings = \"Hello World\"\n",
        "print(\"First part -> \", greetings[0:5])\n",
        "print(\"Second part -> \", greetings[6:12])"
      ],
      "execution_count": null,
      "outputs": [
        {
          "output_type": "stream",
          "text": [
            "First part ->  Hello\n",
            "Second part ->  World\n"
          ],
          "name": "stdout"
        }
      ]
    },
    {
      "cell_type": "markdown",
      "metadata": {
        "id": "heBhL9Cm7rFl"
      },
      "source": [
        "String length\n",
        "- len()"
      ]
    },
    {
      "cell_type": "code",
      "metadata": {
        "colab": {
          "base_uri": "https://localhost:8080/"
        },
        "id": "RXKuh8fE5pkD",
        "outputId": "2a2aace9-9991-4422-f28c-4b2e031c4225"
      },
      "source": [
        "greetings = \"Hello World\"\n",
        "len(greetings)"
      ],
      "execution_count": null,
      "outputs": [
        {
          "output_type": "execute_result",
          "data": {
            "text/plain": [
              "11"
            ]
          },
          "metadata": {
            "tags": []
          },
          "execution_count": 28
        }
      ]
    },
    {
      "cell_type": "code",
      "metadata": {
        "colab": {
          "base_uri": "https://localhost:8080/"
        },
        "id": "naG_vFHC8Xb-",
        "outputId": "93b23a10-8004-45ba-d998-6026005efafb"
      },
      "source": [
        "print(greetings[len(greetings)-1])"
      ],
      "execution_count": null,
      "outputs": [
        {
          "output_type": "stream",
          "text": [
            "d\n"
          ],
          "name": "stdout"
        }
      ]
    },
    {
      "cell_type": "markdown",
      "metadata": {
        "id": "yZUxijkQ9ggY"
      },
      "source": [
        "## List\n",
        "- A lsit is a collection of variables\n",
        "- Variables can be of any data type\n",
        "- Create list using square brackets [ ]"
      ]
    },
    {
      "cell_type": "markdown",
      "metadata": {
        "id": "0grVVM0--03x"
      },
      "source": [
        "Looping lists"
      ]
    },
    {
      "cell_type": "code",
      "metadata": {
        "colab": {
          "base_uri": "https://localhost:8080/"
        },
        "id": "R3y3v5Sb99Xu",
        "outputId": "2783317d-1af5-4614-e383-39b683dd32a3"
      },
      "source": [
        "my_list = [1, 2, 3, 4, 'Python', 'is', 'neat']\n",
        "\n",
        "for i in my_list:\n",
        "  print(i)"
      ],
      "execution_count": null,
      "outputs": [
        {
          "output_type": "stream",
          "text": [
            "1\n",
            "2\n",
            "3\n",
            "4\n",
            "Python\n",
            "is\n",
            "neat\n"
          ],
          "name": "stdout"
        }
      ]
    },
    {
      "cell_type": "code",
      "metadata": {
        "colab": {
          "base_uri": "https://localhost:8080/"
        },
        "id": "XGOIeY51A2ki",
        "outputId": "79de3f51-d462-4773-f937-c1c94077bca8"
      },
      "source": [
        "my_list.append('nice')\n",
        "print(my_list)"
      ],
      "execution_count": null,
      "outputs": [
        {
          "output_type": "stream",
          "text": [
            "[1, 2, 3, 4, 'Python', 'is', 'neat', 'nice']\n"
          ],
          "name": "stdout"
        }
      ]
    },
    {
      "cell_type": "code",
      "metadata": {
        "colab": {
          "base_uri": "https://localhost:8080/",
          "height": 35
        },
        "id": "xUoKQJxbB3tn",
        "outputId": "b3652acf-433f-4099-abf7-99dfdb1bb0ec"
      },
      "source": [
        "my_list.pop()"
      ],
      "execution_count": null,
      "outputs": [
        {
          "output_type": "execute_result",
          "data": {
            "application/vnd.google.colaboratory.intrinsic+json": {
              "type": "string"
            },
            "text/plain": [
              "'nice'"
            ]
          },
          "metadata": {
            "tags": []
          },
          "execution_count": 91
        }
      ]
    },
    {
      "cell_type": "code",
      "metadata": {
        "id": "yQw35TDgCK5F"
      },
      "source": [
        "my_"
      ],
      "execution_count": null,
      "outputs": []
    },
    {
      "cell_type": "markdown",
      "metadata": {
        "id": "Po0RtjEc-7cF"
      },
      "source": [
        "Break\n",
        "- Stop the execution of the loop"
      ]
    },
    {
      "cell_type": "code",
      "metadata": {
        "colab": {
          "base_uri": "https://localhost:8080/"
        },
        "id": "2YNOV1Qf_Fxo",
        "outputId": "0623d451-f7c3-4265-e909-25618be92ce0"
      },
      "source": [
        "for i in my_list:\n",
        "  if i == 'Python':\n",
        "    break\n",
        "  print(i)"
      ],
      "execution_count": null,
      "outputs": [
        {
          "output_type": "stream",
          "text": [
            "1\n",
            "2\n",
            "3\n",
            "4\n"
          ],
          "name": "stdout"
        }
      ]
    },
    {
      "cell_type": "markdown",
      "metadata": {
        "id": "7v0l9BH9_j4p"
      },
      "source": [
        "Continue\n",
        "- Continue to the next item without executing the line occuring after inside the loop."
      ]
    },
    {
      "cell_type": "code",
      "metadata": {
        "colab": {
          "base_uri": "https://localhost:8080/"
        },
        "id": "AJdmRfp8__t1",
        "outputId": "063dfb03-0ce5-406a-91ab-4b9e17e352bd"
      },
      "source": [
        "for i in my_list:\n",
        "  if i == 1:\n",
        "    continue\n",
        "  print(i)"
      ],
      "execution_count": null,
      "outputs": [
        {
          "output_type": "stream",
          "text": [
            "2\n",
            "3\n",
            "4\n",
            "Python\n",
            "is\n",
            "neat\n"
          ],
          "name": "stdout"
        }
      ]
    },
    {
      "cell_type": "markdown",
      "metadata": {
        "id": "zjxdeOQ1D0W9"
      },
      "source": [
        "## Set\n",
        "- A set is a special kind of a list where element can only be unique\n",
        "- Set can not be indexed\n",
        "- Set doesnt have order\n",
        "- Set is mutable\n",
        "- Create set using curly brackets { }"
      ]
    },
    {
      "cell_type": "code",
      "metadata": {
        "colab": {
          "base_uri": "https://localhost:8080/"
        },
        "id": "SkpHDRXOFI7M",
        "outputId": "fc18a551-1528-43a3-9e4a-54bc1eb79c8f"
      },
      "source": [
        "# Creating a set\n",
        "my_set = {1, 2, 3}\n",
        "print(my_set)"
      ],
      "execution_count": null,
      "outputs": [
        {
          "output_type": "stream",
          "text": [
            "{1, 2, 3}\n"
          ],
          "name": "stdout"
        }
      ]
    },
    {
      "cell_type": "markdown",
      "metadata": {
        "id": "1OPne53DFUe-"
      },
      "source": [
        "Add elements in a set\n",
        "- add()"
      ]
    },
    {
      "cell_type": "code",
      "metadata": {
        "colab": {
          "base_uri": "https://localhost:8080/"
        },
        "id": "5nSOnnhXFRte",
        "outputId": "b1c4b00a-076e-40b6-e3a9-96faed5422dc"
      },
      "source": [
        "my_set.add(4)\n",
        "my_set.add(1)\n",
        "my_set.add(5)\n",
        "print(my_set)"
      ],
      "execution_count": null,
      "outputs": [
        {
          "output_type": "stream",
          "text": [
            "{1, 2, 3, 4, 5}\n"
          ],
          "name": "stdout"
        }
      ]
    },
    {
      "cell_type": "markdown",
      "metadata": {
        "id": "tM_YmQCTFqmp"
      },
      "source": [
        "Remove elements from a set\n",
        "- pop()"
      ]
    },
    {
      "cell_type": "code",
      "metadata": {
        "colab": {
          "base_uri": "https://localhost:8080/"
        },
        "id": "J-Z7QJ2wI3RR",
        "outputId": "62285df6-76d0-448c-8cfd-37e9c2b174a8"
      },
      "source": [
        "my_set.pop()\n",
        "print(my_set)"
      ],
      "execution_count": null,
      "outputs": [
        {
          "output_type": "stream",
          "text": [
            "{2, 3, 4, 5}\n"
          ],
          "name": "stdout"
        }
      ]
    },
    {
      "cell_type": "markdown",
      "metadata": {
        "id": "V9dElHw7ZT0j"
      },
      "source": [
        "## Tuple\n",
        "- Special case f a list where the elements can not change\n",
        "- Tuple is immutable\n",
        "- Create tuple using circular brackets ( )\n",
        "- Idexing and slicing is same as list"
      ]
    },
    {
      "cell_type": "code",
      "metadata": {
        "colab": {
          "base_uri": "https://localhost:8080/"
        },
        "id": "6ymW6szoaU5q",
        "outputId": "e959a7d9-218b-453e-d921-2490f7585829"
      },
      "source": [
        "# creating a tuple\n",
        "my_tuple = (1, 2, 3, 5.3)\n",
        "print(type(my_tuple))"
      ],
      "execution_count": null,
      "outputs": [
        {
          "output_type": "stream",
          "text": [
            "<class 'tuple'>\n"
          ],
          "name": "stdout"
        }
      ]
    },
    {
      "cell_type": "code",
      "metadata": {
        "colab": {
          "base_uri": "https://localhost:8080/"
        },
        "id": "Z8QPOkObaui0",
        "outputId": "ebe49280-d441-4fce-f8d8-e95ea35b2eee"
      },
      "source": [
        "print(my_tuple[3])"
      ],
      "execution_count": null,
      "outputs": [
        {
          "output_type": "stream",
          "text": [
            "5.3\n"
          ],
          "name": "stdout"
        }
      ]
    },
    {
      "cell_type": "markdown",
      "metadata": {
        "id": "6SO_ghWybULq"
      },
      "source": [
        "Empty tuple"
      ]
    },
    {
      "cell_type": "code",
      "metadata": {
        "colab": {
          "base_uri": "https://localhost:8080/"
        },
        "id": "NiswK25AbC38",
        "outputId": "1028b2b8-0054-46e8-cd30-7c23f37c73cd"
      },
      "source": [
        "empty_tuple = ()\n",
        "print(empty_tuple)\n",
        "print(type(empty_tuple))"
      ],
      "execution_count": null,
      "outputs": [
        {
          "output_type": "stream",
          "text": [
            "()\n",
            "<class 'tuple'>\n"
          ],
          "name": "stdout"
        }
      ]
    },
    {
      "cell_type": "markdown",
      "metadata": {
        "id": "rEa2EYKAbufU"
      },
      "source": [
        "Tuple with One element\n",
        "- Create this using trailing comma"
      ]
    },
    {
      "cell_type": "code",
      "metadata": {
        "colab": {
          "base_uri": "https://localhost:8080/"
        },
        "id": "3giLaaHZb19S",
        "outputId": "0e847d71-a6da-42e6-8b5a-21ed72ff6ddc"
      },
      "source": [
        "tuple_one = (2),\n",
        "print(tuple_one)\n",
        "print(type(tuple_one))"
      ],
      "execution_count": null,
      "outputs": [
        {
          "output_type": "stream",
          "text": [
            "(2,)\n",
            "<class 'tuple'>\n"
          ],
          "name": "stdout"
        }
      ]
    },
    {
      "cell_type": "markdown",
      "metadata": {
        "id": "8JTUcjtncTNq"
      },
      "source": [
        "Tuple packing\n",
        "- You can create a tuple without brackets"
      ]
    },
    {
      "cell_type": "code",
      "metadata": {
        "colab": {
          "base_uri": "https://localhost:8080/"
        },
        "id": "tWzDcc6scclJ",
        "outputId": "c1f43f8c-e63e-41f4-fa7d-965b6f2748a5"
      },
      "source": [
        "t = 112, 345, 'hello!'\n",
        "print(t)\n",
        "print(type(t))"
      ],
      "execution_count": null,
      "outputs": [
        {
          "output_type": "stream",
          "text": [
            "(112, 345, 'hello!')\n",
            "<class 'tuple'>\n"
          ],
          "name": "stdout"
        }
      ]
    },
    {
      "cell_type": "markdown",
      "metadata": {
        "id": "xahzbvqXcsDT"
      },
      "source": [
        "Sequence unpacking"
      ]
    },
    {
      "cell_type": "code",
      "metadata": {
        "colab": {
          "base_uri": "https://localhost:8080/"
        },
        "id": "Zydor5H3c4t5",
        "outputId": "4fb7e960-9101-4902-dc13-564da206e8dd"
      },
      "source": [
        "x, y, z = t\n",
        "print(x)\n",
        "print(y)\n",
        "print(z)"
      ],
      "execution_count": null,
      "outputs": [
        {
          "output_type": "stream",
          "text": [
            "112\n",
            "345\n",
            "hello!\n"
          ],
          "name": "stdout"
        }
      ]
    },
    {
      "cell_type": "markdown",
      "metadata": {
        "id": "QjFcTWNOeEsN"
      },
      "source": [
        "- functions in tuples"
      ]
    },
    {
      "cell_type": "code",
      "metadata": {
        "colab": {
          "base_uri": "https://localhost:8080/"
        },
        "id": "4WOkzZH4dT-K",
        "outputId": "8902c1c4-dc5d-4252-d350-cd712faffe11"
      },
      "source": [
        "t.count(345)"
      ],
      "execution_count": null,
      "outputs": [
        {
          "output_type": "execute_result",
          "data": {
            "text/plain": [
              "1"
            ]
          },
          "metadata": {
            "tags": []
          },
          "execution_count": 59
        }
      ]
    },
    {
      "cell_type": "code",
      "metadata": {
        "colab": {
          "base_uri": "https://localhost:8080/"
        },
        "id": "43fttvwueSyI",
        "outputId": "2d195fd3-5fdc-4a60-da0a-648c717637fa"
      },
      "source": [
        "t.index(112)"
      ],
      "execution_count": null,
      "outputs": [
        {
          "output_type": "execute_result",
          "data": {
            "text/plain": [
              "0"
            ]
          },
          "metadata": {
            "tags": []
          },
          "execution_count": 60
        }
      ]
    },
    {
      "cell_type": "markdown",
      "metadata": {
        "id": "IMV6VXQ_ekeu"
      },
      "source": [
        "## Dictionary\n",
        "- Have a key value per data structure\n",
        "- Can be indexed but with its key.\n",
        "- Keys are unique\n",
        "- No order \n",
        "- Create dictionary using curly brackets { } and colon :"
      ]
    },
    {
      "cell_type": "code",
      "metadata": {
        "colab": {
          "base_uri": "https://localhost:8080/"
        },
        "id": "zM1wZLJdgn6Y",
        "outputId": "21bc2d46-fb06-43e3-988a-d2eb38669210"
      },
      "source": [
        "my_dict = {1: 2,\"Ahmed\": 4, 2.3: [\"a\",5,2.1]}\n",
        "print(my_dict)\n",
        "print(my_dict[1])"
      ],
      "execution_count": null,
      "outputs": [
        {
          "output_type": "stream",
          "text": [
            "{1: 2, 'Ahmed': 4, 2.3: ['a', 5, 2.1]}\n",
            "2\n"
          ],
          "name": "stdout"
        }
      ]
    },
    {
      "cell_type": "code",
      "metadata": {
        "colab": {
          "base_uri": "https://localhost:8080/"
        },
        "id": "0jc7Ef_gh5Sw",
        "outputId": "ddbcd2ce-b971-434b-c560-b91c73e1bd3e"
      },
      "source": [
        "# Checking if key exists\n",
        "# use in function\n",
        "\n",
        "1 in my_dict"
      ],
      "execution_count": null,
      "outputs": [
        {
          "output_type": "execute_result",
          "data": {
            "text/plain": [
              "True"
            ]
          },
          "metadata": {
            "tags": []
          },
          "execution_count": 63
        }
      ]
    },
    {
      "cell_type": "code",
      "metadata": {
        "colab": {
          "base_uri": "https://localhost:8080/"
        },
        "id": "QXa-5NSdiBAO",
        "outputId": "772ecb49-b1de-4dca-edfc-68897e83e7d6"
      },
      "source": [
        "# getting the value of the key without error\n",
        "print(my_dict.get(2))"
      ],
      "execution_count": null,
      "outputs": [
        {
          "output_type": "stream",
          "text": [
            "None\n"
          ],
          "name": "stdout"
        }
      ]
    },
    {
      "cell_type": "code",
      "metadata": {
        "colab": {
          "base_uri": "https://localhost:8080/"
        },
        "id": "4yyHSKf1jLgt",
        "outputId": "3ad2c9a6-fd9e-4487-d54f-0b6aac4f43de"
      },
      "source": [
        "grocery_dict = { } # empty dictionary\n",
        "print(grocery_dict)\n",
        "print(type(grocery_dict))"
      ],
      "execution_count": null,
      "outputs": [
        {
          "output_type": "stream",
          "text": [
            "{}\n",
            "<class 'dict'>\n"
          ],
          "name": "stdout"
        }
      ]
    },
    {
      "cell_type": "code",
      "metadata": {
        "colab": {
          "base_uri": "https://localhost:8080/"
        },
        "id": "fozOF-bBjaS-",
        "outputId": "c879cfaa-9643-4c4e-c88d-76330f27987c"
      },
      "source": [
        "grocery_dict = {'melon': 2, 'Apple': 3, 'Strawbelly': 5 }\n",
        "print(grocery_dict)\n",
        "print(type(grocery_dict))"
      ],
      "execution_count": null,
      "outputs": [
        {
          "output_type": "stream",
          "text": [
            "{'melon': 2, 'Apple': 3, 'Strawbelly': 5}\n",
            "<class 'dict'>\n"
          ],
          "name": "stdout"
        }
      ]
    },
    {
      "cell_type": "code",
      "metadata": {
        "colab": {
          "base_uri": "https://localhost:8080/"
        },
        "id": "Y9xUUQL_kEfz",
        "outputId": "56c398a6-6025-4565-b35d-4229817e2d1a"
      },
      "source": [
        "print(grocery_dict['melon'])"
      ],
      "execution_count": null,
      "outputs": [
        {
          "output_type": "stream",
          "text": [
            "2\n"
          ],
          "name": "stdout"
        }
      ]
    },
    {
      "cell_type": "code",
      "metadata": {
        "id": "rxNf6deLk3dy"
      },
      "source": [
        "grocery_dict['Orange'] = 18"
      ],
      "execution_count": null,
      "outputs": []
    },
    {
      "cell_type": "code",
      "metadata": {
        "colab": {
          "base_uri": "https://localhost:8080/"
        },
        "id": "Cfuy8KJ92c0w",
        "outputId": "c4b9c327-8d2a-49a2-e20a-75ea6a2d5bb1"
      },
      "source": [
        "print(grocery_dict)"
      ],
      "execution_count": null,
      "outputs": [
        {
          "output_type": "stream",
          "text": [
            "{'melon': 2, 'Apple': 3, 'Strawbelly': 5, 'Orange': 18}\n"
          ],
          "name": "stdout"
        }
      ]
    },
    {
      "cell_type": "markdown",
      "metadata": {
        "id": "NJt91msX9KXT"
      },
      "source": [
        "## Compounded Data Structures"
      ]
    },
    {
      "cell_type": "code",
      "metadata": {
        "id": "5ryr6wuj9U6a"
      },
      "source": [
        "my_dict = {1: {1:[1, 2, 3, 'ahmed'], 3.2:(1, 2, 3)}}\n",
        "my_list = [{1:['ahm', 'ca', 'bh']}, [2, (3,4,8), 4], 'ahmed']"
      ],
      "execution_count": null,
      "outputs": []
    },
    {
      "cell_type": "code",
      "metadata": {
        "colab": {
          "base_uri": "https://localhost:8080/",
          "height": 35
        },
        "id": "b6O1rRjy-4JB",
        "outputId": "e7e2ad01-d549-4380-e727-6fc8488b206e"
      },
      "source": [
        "# Accessing value inside the compounded data structure\n",
        "my_dict[1][1][3] # Accessing Ahmed"
      ],
      "execution_count": null,
      "outputs": [
        {
          "output_type": "execute_result",
          "data": {
            "application/vnd.google.colaboratory.intrinsic+json": {
              "type": "string"
            },
            "text/plain": [
              "'ahmed'"
            ]
          },
          "metadata": {
            "tags": []
          },
          "execution_count": 6
        }
      ]
    },
    {
      "cell_type": "code",
      "metadata": {
        "colab": {
          "base_uri": "https://localhost:8080/"
        },
        "id": "E9En66bp_H00",
        "outputId": "e27d1592-bb97-4475-8f11-d09f53c67db5"
      },
      "source": [
        "# Accessing 3.2\n",
        "my_dict[1][3.2]"
      ],
      "execution_count": null,
      "outputs": [
        {
          "output_type": "execute_result",
          "data": {
            "text/plain": [
              "(1, 2, 3)"
            ]
          },
          "metadata": {
            "tags": []
          },
          "execution_count": 8
        }
      ]
    },
    {
      "cell_type": "code",
      "metadata": {
        "colab": {
          "base_uri": "https://localhost:8080/",
          "height": 35
        },
        "id": "VDye9agCAFBm",
        "outputId": "6113c9c0-c7b0-4f29-e614-dfd5155276ac"
      },
      "source": [
        "my_list[0][1][0]"
      ],
      "execution_count": null,
      "outputs": [
        {
          "output_type": "execute_result",
          "data": {
            "application/vnd.google.colaboratory.intrinsic+json": {
              "type": "string"
            },
            "text/plain": [
              "'ahm'"
            ]
          },
          "metadata": {
            "tags": []
          },
          "execution_count": 12
        }
      ]
    },
    {
      "cell_type": "code",
      "metadata": {
        "colab": {
          "base_uri": "https://localhost:8080/"
        },
        "id": "hRrIPYPJAoLQ",
        "outputId": "f31fa901-228a-43f1-b76f-5ba2487c2afe"
      },
      "source": [
        "my_list[1][1][2] # Accesing 8 inside the tuple"
      ],
      "execution_count": null,
      "outputs": [
        {
          "output_type": "execute_result",
          "data": {
            "text/plain": [
              "8"
            ]
          },
          "metadata": {
            "tags": []
          },
          "execution_count": 16
        }
      ]
    },
    {
      "cell_type": "code",
      "metadata": {
        "id": "3xC1rHOPA-lO"
      },
      "source": [
        "my_tuple = (1, 2, {1:['tuple',6]})"
      ],
      "execution_count": null,
      "outputs": []
    },
    {
      "cell_type": "code",
      "metadata": {
        "colab": {
          "base_uri": "https://localhost:8080/",
          "height": 35
        },
        "id": "OyQmnwy2BKiW",
        "outputId": "7d6981a5-b822-4d1e-8945-f55893553603"
      },
      "source": [
        "my_tuple[2][1][0] # Accessing tuple inside the dict"
      ],
      "execution_count": null,
      "outputs": [
        {
          "output_type": "execute_result",
          "data": {
            "application/vnd.google.colaboratory.intrinsic+json": {
              "type": "string"
            },
            "text/plain": [
              "'tuple'"
            ]
          },
          "metadata": {
            "tags": []
          },
          "execution_count": 24
        }
      ]
    }
  ]
}